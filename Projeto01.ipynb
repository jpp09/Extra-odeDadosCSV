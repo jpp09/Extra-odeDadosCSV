{
  "nbformat": 4,
  "nbformat_minor": 0,
  "metadata": {
    "colab": {
      "provenance": [],
      "collapsed_sections": [
        "_ajXYzPSyHQ8"
      ],
      "authorship_tag": "ABX9TyOiNqXlrWs5Visu1Cpn6KV6",
      "include_colab_link": true
    },
    "kernelspec": {
      "name": "python3",
      "display_name": "Python 3"
    },
    "language_info": {
      "name": "python"
    }
  },
  "cells": [
    {
      "cell_type": "markdown",
      "metadata": {
        "id": "view-in-github",
        "colab_type": "text"
      },
      "source": [
        "<a href=\"https://colab.research.google.com/github/jpp09/Extra-odeDadosCSV/blob/main/Projeto01.ipynb\" target=\"_parent\"><img src=\"https://colab.research.google.com/assets/colab-badge.svg\" alt=\"Open In Colab\"/></a>"
      ]
    },
    {
      "cell_type": "markdown",
      "source": [
        "# Projeto de extração básica de dados"
      ],
      "metadata": {
        "id": "By0isuL-tVXa"
      }
    },
    {
      "cell_type": "markdown",
      "source": [
        "### Importação da biblioteca"
      ],
      "metadata": {
        "id": "_lShqGNutdJJ"
      }
    },
    {
      "cell_type": "code",
      "source": [
        "import pandas as pd\n",
        "import math"
      ],
      "metadata": {
        "id": "nA1pUl3ati4p"
      },
      "execution_count": 70,
      "outputs": []
    },
    {
      "cell_type": "markdown",
      "source": [
        "### Lendo o arquivo em csv"
      ],
      "metadata": {
        "id": "csNmqJXVtwB1"
      }
    },
    {
      "cell_type": "code",
      "source": [
        "file = pd.read_csv('mentalSurvey.csv')\n",
        "for i in file:\n",
        "  print(i)"
      ],
      "metadata": {
        "colab": {
          "base_uri": "https://localhost:8080/"
        },
        "id": "wCqJhZQJt6cN",
        "outputId": "b1495527-4fd9-41cb-8a61-b65c89f29384"
      },
      "execution_count": 41,
      "outputs": [
        {
          "output_type": "stream",
          "name": "stdout",
          "text": [
            "gender\n",
            "age\n",
            "university\n",
            "degree_level\n",
            "degree_major\n",
            "academic_year\n",
            "cgpa\n",
            "residential_status\n",
            "campus_discrimination\n",
            "sports_engagement\n",
            "average_sleep\n",
            "study_satisfaction\n",
            "academic_workload \n",
            "academic_pressure\n",
            "financial_concerns\n",
            "social_relationships\n",
            "depression\n",
            "anxiety\n",
            "isolation\n",
            "future_insecurity\n",
            "stress_relief_activities\n"
          ]
        }
      ]
    },
    {
      "cell_type": "markdown",
      "source": [
        "### Sexo das pessoas"
      ],
      "metadata": {
        "id": "T5cczqDUt6Ft"
      }
    },
    {
      "cell_type": "code",
      "source": [
        "male = 0\n",
        "female = 0\n",
        "age = []\n",
        "for i in file['gender']:\n",
        "  if i.lower() == 'male':\n",
        "    male += 1\n",
        "  else:\n",
        "    female += 1\n"
      ],
      "metadata": {
        "id": "bqa1XNTpuX2I"
      },
      "execution_count": 90,
      "outputs": []
    },
    {
      "cell_type": "markdown",
      "source": [
        "### Idade das pessoas"
      ],
      "metadata": {
        "id": "_ajXYzPSyHQ8"
      }
    },
    {
      "cell_type": "code",
      "source": [
        "ages = []\n",
        "min_age = 0\n",
        "max_age = 0\n",
        "for age in file['age']:\n",
        "  ages.append(age)\n",
        "min_age = min(ages)\n",
        "max_age = max(ages)\n"
      ],
      "metadata": {
        "colab": {
          "base_uri": "https://localhost:8080/"
        },
        "id": "qh2APw9_yFe7",
        "outputId": "0d5c64a9-bca4-4a52-ca48-9937df5667a8"
      },
      "execution_count": 40,
      "outputs": [
        {
          "output_type": "execute_result",
          "data": {
            "text/plain": [
              "26"
            ]
          },
          "metadata": {},
          "execution_count": 40
        }
      ]
    },
    {
      "cell_type": "markdown",
      "source": [
        "### Nível de depressão das pessoas"
      ],
      "metadata": {
        "id": "dKjtk4Zi1Hmi"
      }
    },
    {
      "cell_type": "code",
      "source": [
        "light_depression = 0\n",
        "moderate_depression = 0\n",
        "severe_depression = 0\n",
        "for depression in file['depression']:\n",
        "  if depression == 1 or depression == 2:\n",
        "    light_depression += 1\n",
        "  elif depression == 3:\n",
        "    moderate_depression += 1\n",
        "  else:\n",
        "    severe_depression += 1"
      ],
      "metadata": {
        "colab": {
          "base_uri": "https://localhost:8080/"
        },
        "id": "cCYUkw3MyfJX",
        "outputId": "5c3db158-3b60-49df-b831-76a85c82b574"
      },
      "execution_count": 44,
      "outputs": [
        {
          "output_type": "stream",
          "name": "stdout",
          "text": [
            "27 21 39\n"
          ]
        }
      ]
    },
    {
      "cell_type": "markdown",
      "source": [
        "### Discriminação no campus"
      ],
      "metadata": {
        "id": "HFeJ1nP72PJW"
      }
    },
    {
      "cell_type": "code",
      "source": [
        "discrimination = 0\n",
        "not_discrimination = 0\n",
        "for d in file['campus_discrimination']:\n",
        "  if d.lower() == 'yes':\n",
        "    discrimination += 1\n",
        "  else:\n",
        "    not_discrimination += 1"
      ],
      "metadata": {
        "colab": {
          "base_uri": "https://localhost:8080/"
        },
        "id": "N9LBT_J-2ksF",
        "outputId": "833785d6-7992-46ca-d9d6-7288b95fed42"
      },
      "execution_count": 46,
      "outputs": [
        {
          "output_type": "stream",
          "name": "stdout",
          "text": [
            "22\n",
            "65\n"
          ]
        }
      ]
    },
    {
      "cell_type": "markdown",
      "source": [
        "### Mora dentro do campus ou não\n"
      ],
      "metadata": {
        "id": "PW0ofH863faZ"
      }
    },
    {
      "cell_type": "code",
      "source": [
        "on_campus = 0\n",
        "off_campus = 0\n",
        "for cp in file['residential_status']:\n",
        "  if cp.lower() == 'on-campus':\n",
        "      on_campus += 1\n",
        "  else:\n",
        "    off_campus += 1\n"
      ],
      "metadata": {
        "colab": {
          "base_uri": "https://localhost:8080/"
        },
        "id": "tprG7Mil3EFD",
        "outputId": "56a8cb90-f68a-4d2d-cade-b19b7eebf53f"
      },
      "execution_count": 51,
      "outputs": [
        {
          "output_type": "stream",
          "name": "stdout",
          "text": [
            "22 65\n"
          ]
        }
      ]
    },
    {
      "cell_type": "markdown",
      "source": [
        "### Representação dos dados da pesquisa"
      ],
      "metadata": {
        "id": "x2XcgqmY4vz5"
      }
    },
    {
      "cell_type": "code",
      "source": [
        "print(f'Pesquisa sobre a saúde mental dos estudantes')\n",
        "print(f'Nessa pesquisa tivemos: {len(ages)} respostas.')\n",
        "print(f'Sendo, {round((male / len(ages))*100,2)}% do sexo masculino e {round((female / len(ages))*100,2)}% do sexo feminino.')\n",
        "print(f'Em um geral o nível todas as pessoas alegaram ter algum nível de depressão, sendo: {round(light_depression/len(ages)*100,2)}% Nível Leve | {round(moderate_depression/len(ages)*100,2)}% Nível moderado | {round(severe_depression/len(ages)*100,2)}% - Nível alto')\n",
        "print(f'Dos {len(ages)} participantes, a média das idades é: {int(sum(ages)/len(ages))}')\n",
        "print(f'A menor idade é: {min_age}')\n",
        "print(f'A maior idade é: {max_age}')\n",
        "print(f'Dos {len(ages)} estudantes, {on_campus} mora no campus e {off_campus} não moram no campus')\n",
        "print(f'Dos {len(ages)} estudantes, {discrimination} alegaram ter sofrido alguma disriminação e {not_discrimination} alegaram não terem sofrido')\n"
      ],
      "metadata": {
        "colab": {
          "base_uri": "https://localhost:8080/"
        },
        "id": "CUz4PAi_42CA",
        "outputId": "19a6f15b-f538-4af4-e757-5ab1502d11d8"
      },
      "execution_count": 108,
      "outputs": [
        {
          "output_type": "stream",
          "name": "stdout",
          "text": [
            "Pesquisa sobre a saúde mental dos estudantes\n",
            "Nessa pesquisa tivemos: 87 respostas.\n",
            "Sendo, 72.41% do sexo masculino e 27.59% do sexo feminino.\n",
            "Em um geral o nível todas as pessoas alegaram ter algum nível de depressão, sendo: 31.03% Nível Leve | 24.14% Nível moderado | 44.83% - Nível alto\n",
            "Dos 87 participantes, a média das idades é: 19\n",
            "A menor idade é: 17\n",
            "A maior idade é: 26\n",
            "Dos 87 estudantes, 22 mora no campus e 65 não moram no campus\n",
            "Dos 87 estudantes, 22 alegaram ter sofrido alguma disriminação e 65 alegaram não terem sofrido\n"
          ]
        }
      ]
    },
    {
      "cell_type": "code",
      "source": [],
      "metadata": {
        "id": "z9ttaFqb6tPm"
      },
      "execution_count": null,
      "outputs": []
    }
  ]
}